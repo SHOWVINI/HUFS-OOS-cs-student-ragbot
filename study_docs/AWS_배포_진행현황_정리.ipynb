{
 "cells": [
  {
   "cell_type": "markdown",
   "id": "eadfaff2",
   "metadata": {},
   "source": [
    "# 🚀 HUFS-OOS-cs-student-ragbot: EC2 + Docker + GitHub Actions 배포 가이드\n",
    "\n",
    "이 문서는 **HUFS-OOS-cs-student-ragbot** 프로젝트를 AWS EC2에 **Docker**로 패키징하고, **GitHub Actions(CI/CD)** 를 통해 자동 배포하며, **DuckDNS**로 도메인 연결까지 완료하는 전체 과정을 정리한 가이드입니다.\n",
    "\n",
    "---\n",
    "\n",
    "## 📦 프로젝트 요약\n",
    "\n",
    "- **서버 배포 대상:** AWS EC2 Ubuntu 22.04 LTS\n",
    "- **도메인 연결:** DuckDNS (`http://hufscomchatbot.duckdns.org`)\n",
    "- **퍼블릭 IP:** `13.209.135.41`\n",
    "- **SSH Key 파일:** `hufschatbot.pem`\n",
    "- **백엔드 서버 포트:** `8000`\n",
    "\n",
    "---\n",
    "\n",
    "## ✅ 1. EC2 인스턴스 생성 및 접속\n",
    "\n",
    "1. **AWS EC2** 대시보드 → Ubuntu 22.04 LTS 인스턴스 생성\n",
    "2. **보안 그룹** 설정:\n",
    "   - SSH: 포트 22\n",
    "   - HTTP: 포트 80\n",
    "   - FastAPI: 포트 8000\n",
    "3. **탄력적 IP** 할당 후 연결 (예: `13.209.135.41`)\n",
    "4. `.pem` 키파일 다운로드 (예: `hufschatbot.pem`)\n",
    "\n",
    "### 🔐 SSH 접속\n",
    "\n",
    "```bash\n",
    "chmod 400 hufschatbot.pem\n",
    "ssh -i \"hufschatbot.pem\" ubuntu@13.209.135.41"
   ]
  }
 ],
 "metadata": {
  "language_info": {
   "name": "python"
  }
 },
 "nbformat": 4,
 "nbformat_minor": 5
}
